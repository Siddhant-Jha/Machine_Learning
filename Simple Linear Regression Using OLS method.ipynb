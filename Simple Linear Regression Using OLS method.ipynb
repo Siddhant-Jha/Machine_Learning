{
 "cells": [
  {
   "cell_type": "markdown",
   "metadata": {},
   "source": [
    "The Following code uses OLS or Ordinar Least Square method to plot a line of regression to find an assosciated pattern between SAT or Scholastic Assessment Test and GPA Grade Point Assessment\n",
    "\n",
    "--> Siddhant Jha\n",
    "--> Build no. 9"
   ]
  },
  {
   "cell_type": "code",
   "execution_count": null,
   "metadata": {},
   "outputs": [],
   "source": [
    "import numpy as np\n",
    "import pandas as pd\n",
    "import matplotlib.pyplot as plt\n",
    "import statsmodels.api as sm\n",
    "import seaborn as sns\n",
    "sns.set()\n",
    "#seaborn is a library built on top of matplotlib and is used to enhance the graphical representation of the graph\n",
    "#assosiated with matplotlib module. The sns.set() function overwrites all the graphs of matplotlib"
   ]
  },
  {
   "cell_type": "code",
   "execution_count": null,
   "metadata": {},
   "outputs": [],
   "source": [
    "data = pd.read_csv ('1.01. Simple linear regression.csv') \n",
    "\n",
    "#pd.read_csv is an method provided by pandas library to read through csv files and it stores data in variable\n",
    "#named data and inclusively converts variable data into dataframe to store data in tablular form\n",
    "\n",
    "\n",
    "# The above mentioned csv contains data of SAT or \"Scholastic Assessment Test\" that is used\n",
    "# By universities to assess the capabilities of a student for enterance purposes\n",
    "# while GPA or Grade Point Assessment is the cummlative grade point scored by a student during the coarse of time"
   ]
  },
  {
   "cell_type": "code",
   "execution_count": null,
   "metadata": {},
   "outputs": [],
   "source": [
    "data.describe()\n",
    "\n",
    "#data.describe() converts the data into a more elaborated and dynamic mode for easy of reading for the user\n",
    "#.describe() is a method that comes with pandas module"
   ]
  },
  {
   "cell_type": "code",
   "execution_count": null,
   "metadata": {},
   "outputs": [],
   "source": [
    "y = data['GPA'] #storing the data of column 'GPA' to y i.e. our dependent variable\n",
    "x1 = data['SAT'] #storing the data of column 'STA' to x1 i.e. our independent variable"
   ]
  },
  {
   "cell_type": "code",
   "execution_count": null,
   "metadata": {},
   "outputs": [],
   "source": [
    "plt.scatter(x1,y) \n",
    "#plotting a scattered graph using plt method provided with matplotlib\n",
    "#the scattered graph shows all the data points over a graph\n",
    "\n",
    "plt.xlabel('SAT', fontsize = 20) #labelling x-axis as 'SAT' and setting font size to 20 px\n",
    "plt.ylabel('GPA', fontsize = 20) #labelling y-axis as 'GPA' and setting font size to 20 px\n",
    "plt.show()"
   ]
  },
  {
   "cell_type": "code",
   "execution_count": null,
   "metadata": {},
   "outputs": [],
   "source": [
    "x = sm.add_constant(x1) \n",
    "#We know that yhat = b0+b1x1 that doesn't contain x0\n",
    "#but to make things more simplified and dynamic we must add the notion of any required constant\n",
    "# and in this case the constant is x0 or x and equation turns out to be\n",
    "#yhat = b0*(1 or x0)+b1x1 where x0 = 1\n",
    "\n",
    "result = sm.OLS(y,x).fit()\n",
    "#Here we are creating a line of regression using the simplest method named \"Ordinary Least Square Method or OLS\"\n",
    "#.fit() is a function that comes included in the stats model lib and it adjusts the oriantation of the graph\n",
    "\n",
    "result.summary()\n",
    "#this function is also a part of stats model library which is used to display summary from the graph"
   ]
  },
  {
   "cell_type": "code",
   "execution_count": null,
   "metadata": {},
   "outputs": [],
   "source": [
    "plt.scatter(x1,y) \n",
    "#using the same variables to plot a scattered graph of data points\n",
    "\n",
    "yhat = 0.0017*x1 + 0.275 \n",
    "#here we have substituted the value of b0 and b1 with the values \n",
    "# with the values obtained from the summary above\n",
    "\n",
    "fig = plt.plot(x1,yhat,lw = 4, c = 'orange', label = 'regression line')\n",
    "#using this command we are plotting the line of regression \n",
    "# the output line will be the best fitting line which is closest to all data points simultaneously\n",
    "\n",
    "plt.xlabel('SAT', fontsize = 20)\n",
    "plt.ylabel('GPA', fontsize = 20)\n",
    "plt.show()"
   ]
  }
 ],
 "metadata": {
  "kernelspec": {
   "display_name": "Python 3",
   "language": "python",
   "name": "python3"
  },
  "language_info": {
   "codemirror_mode": {
    "name": "ipython",
    "version": 3
   },
   "file_extension": ".py",
   "mimetype": "text/x-python",
   "name": "python",
   "nbconvert_exporter": "python",
   "pygments_lexer": "ipython3",
   "version": "3.7.7"
  }
 },
 "nbformat": 4,
 "nbformat_minor": 4
}
